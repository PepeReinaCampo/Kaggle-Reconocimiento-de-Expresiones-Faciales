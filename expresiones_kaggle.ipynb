{
 "cells": [
  {
   "cell_type": "code",
   "execution_count": null,
   "metadata": {},
   "outputs": [],
   "source": [
    "import pandas as pd\n",
    "import matplotlib.pyplot as plt\n",
    "import matplotlib.image as mpimg \n",
    "import os\n",
    "import numpy as np\n",
    "import pandas as pd\n",
    "from tensorflow.keras.preprocessing import image\n",
    "from tensorflow.keras.models import load_model"
   ]
  },
  {
   "cell_type": "code",
   "execution_count": null,
   "metadata": {},
   "outputs": [],
   "source": [
    "df_rutas = pd.read_csv('./reconocimiento-de-expresiones-faciales/train_set.csv') \n",
    "df_pre = pd.read_csv('./reconocimiento-de-expresiones-faciales/test_set.csv')"
   ]
  },
  {
   "cell_type": "code",
   "execution_count": null,
   "metadata": {},
   "outputs": [],
   "source": [
    "df_rutas"
   ]
  },
  {
   "cell_type": "code",
   "execution_count": null,
   "metadata": {},
   "outputs": [],
   "source": [
    "df_rutas[\"label\"].value_counts()"
   ]
  },
  {
   "cell_type": "code",
   "execution_count": null,
   "metadata": {},
   "outputs": [],
   "source": [
    "df_pre"
   ]
  },
  {
   "cell_type": "code",
   "execution_count": null,
   "metadata": {},
   "outputs": [],
   "source": [
    "# Definir el diccionario para traducir las predicciones numéricas a etiquetas de palabras\n",
    "emotion_dict = {0: 'angry', 1: 'disgust', 2: 'fear', 3: 'happy', 4: 'sad', 5: 'surprise', 6: 'neutral'}\n",
    "\n",
    "# Ruta a la carpeta con las imágenes\n",
    "image_folder = 'data/data/images/test'\n",
    "# Ruta al modelo entrenado\n",
    "model_path = 'modelo/modelo_cnn.keras'\n",
    "\n",
    "# Cargar el modelo entrenado\n",
    "model = load_model(model_path)\n",
    "\n",
    "# Crear una lista para almacenar los datos\n",
    "data = []\n",
    "\n",
    "# Recorrer todas las imágenes en la carpeta\n",
    "for img_name in os.listdir(image_folder):\n",
    "    # Asegurarse de procesar solo archivos jpg\n",
    "    if img_name.endswith('.jpg'):\n",
    "        # Cargar y preprocesar la imagen\n",
    "        img_path = os.path.join(image_folder, img_name)\n",
    "        img = image.load_img(img_path, target_size=(48, 48), color_mode='grayscale')\n",
    "        img_array = image.img_to_array(img)\n",
    "        \n",
    "        # Convertir la imagen de escala de grises a la forma adecuada para el modelo\n",
    "        img_array = np.expand_dims(img_array, axis=-1)  # Asegurar que la imagen tenga el canal\n",
    "        img_array = np.expand_dims(img_array, axis=0)  # Asegurar que la imagen tenga la dimensión de batch\n",
    "        img_array = img_array / 255.0  # Normalizar la imagen\n",
    "\n",
    "        # Hacer la predicción\n",
    "        predictions = model.predict(img_array)\n",
    "        label = emotion_dict[np.argmax(predictions)]\n",
    "\n",
    "        # Obtener el nombre de la imagen sin la extensión\n",
    "        img_id = os.path.splitext(img_name)[0]\n",
    "\n",
    "        # Añadir los datos al DataFrame\n",
    "        data.append([img_id, label])\n",
    "\n",
    "# Crear el DataFrame con los resultados\n",
    "df = pd.DataFrame(data, columns=['id_img', 'label'])\n",
    "\n",
    "# Guardar el DataFrame en un archivo CSV si es necesario\n",
    "df.to_csv('sample_submission11.csv', index=False)\n"
   ]
  }
 ],
 "metadata": {
  "kernelspec": {
   "display_name": "Python 3",
   "language": "python",
   "name": "python3"
  },
  "language_info": {
   "codemirror_mode": {
    "name": "ipython",
    "version": 3
   },
   "file_extension": ".py",
   "mimetype": "text/x-python",
   "name": "python",
   "nbconvert_exporter": "python",
   "pygments_lexer": "ipython3",
   "version": "3.12.3"
  }
 },
 "nbformat": 4,
 "nbformat_minor": 2
}
